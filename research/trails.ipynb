{
 "cells": [
  {
   "cell_type": "markdown",
   "id": "5856f675",
   "metadata": {},
   "source": [
    "this is an example of why to use configbox it so we can use stuff as methods where usually we cant"
   ]
  },
  {
   "cell_type": "code",
   "execution_count": 10,
   "id": "e9cce19e",
   "metadata": {},
   "outputs": [],
   "source": [
    "d = {\"key\" : \"value\",\"Key1\" : \"Value1\" }"
   ]
  },
  {
   "cell_type": "code",
   "execution_count": 11,
   "id": "eece8058",
   "metadata": {},
   "outputs": [
    {
     "data": {
      "text/plain": [
       "'value'"
      ]
     },
     "execution_count": 11,
     "metadata": {},
     "output_type": "execute_result"
    }
   ],
   "source": [
    "d['key']"
   ]
  },
  {
   "cell_type": "code",
   "execution_count": 2,
   "id": "76e50f99",
   "metadata": {},
   "outputs": [],
   "source": [
    "from box import ConfigBox #why use configbox instead of normal"
   ]
  },
  {
   "cell_type": "code",
   "execution_count": 8,
   "id": "db4b2c33",
   "metadata": {},
   "outputs": [],
   "source": [
    "d2 = ConfigBox({\"key\" : \"value\",\"Key1\" : \"Value1\" })"
   ]
  },
  {
   "cell_type": "code",
   "execution_count": 18,
   "id": "71c618a8",
   "metadata": {},
   "outputs": [],
   "source": [
    "def get_product(x: int, y: int) -> int: \n",
    "    return x * y "
   ]
  }
 ],
 "metadata": {
  "kernelspec": {
   "display_name": "venv",
   "language": "python",
   "name": "python3"
  },
  "language_info": {
   "codemirror_mode": {
    "name": "ipython",
    "version": 3
   },
   "file_extension": ".py",
   "mimetype": "text/x-python",
   "name": "python",
   "nbconvert_exporter": "python",
   "pygments_lexer": "ipython3",
   "version": "3.12.3"
  }
 },
 "nbformat": 4,
 "nbformat_minor": 5
}
